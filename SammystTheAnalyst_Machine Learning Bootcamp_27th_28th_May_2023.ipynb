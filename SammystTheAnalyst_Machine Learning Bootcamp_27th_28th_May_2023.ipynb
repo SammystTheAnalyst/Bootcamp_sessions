{
 "cells": [
  {
   "cell_type": "code",
   "execution_count": 1,
   "id": "cce76715",
   "metadata": {},
   "outputs": [],
   "source": [
    "# importing necessary libraries\n",
    "\n",
    "import pandas as pd\n",
    "import zipfile\n",
    "from io import BytesIO"
   ]
  },
  {
   "cell_type": "code",
   "execution_count": 2,
   "id": "b33b2d63",
   "metadata": {},
   "outputs": [],
   "source": [
    "filepath = r\"C:\\Users\\MAX TECH STORE\\Documents\\DataScienceProjects\\Personal Projects\\Heart project\\Heart dataset.zip\""
   ]
  },
  {
   "cell_type": "code",
   "execution_count": 3,
   "id": "fa0d3a16",
   "metadata": {},
   "outputs": [
    {
     "data": {
      "text/plain": [
       "zipfile.ZipFile"
      ]
     },
     "execution_count": 3,
     "metadata": {},
     "output_type": "execute_result"
    }
   ],
   "source": [
    "data = zipfile.ZipFile(filepath, 'r')\n",
    "type(data)"
   ]
  },
  {
   "cell_type": "code",
   "execution_count": 4,
   "id": "a6451eaf",
   "metadata": {},
   "outputs": [
    {
     "data": {
      "text/plain": [
       "['heart.csv']"
      ]
     },
     "execution_count": 4,
     "metadata": {},
     "output_type": "execute_result"
    }
   ],
   "source": [
    "data.namelist()"
   ]
  },
  {
   "cell_type": "code",
   "execution_count": 5,
   "id": "222fd6d9",
   "metadata": {},
   "outputs": [
    {
     "data": {
      "text/plain": [
       "bytes"
      ]
     },
     "execution_count": 5,
     "metadata": {},
     "output_type": "execute_result"
    }
   ],
   "source": [
    "heart = data.read('heart.csv')\n",
    "type(heart)"
   ]
  },
  {
   "cell_type": "code",
   "execution_count": 6,
   "id": "18ebc22a",
   "metadata": {},
   "outputs": [
    {
     "data": {
      "text/plain": [
       "_io.BytesIO"
      ]
     },
     "execution_count": 6,
     "metadata": {},
     "output_type": "execute_result"
    }
   ],
   "source": [
    "archive = BytesIO(heart)\n",
    "type(archive)"
   ]
  },
  {
   "cell_type": "code",
   "execution_count": 7,
   "id": "df9eaa76",
   "metadata": {},
   "outputs": [
    {
     "data": {
      "text/html": [
       "<div>\n",
       "<style scoped>\n",
       "    .dataframe tbody tr th:only-of-type {\n",
       "        vertical-align: middle;\n",
       "    }\n",
       "\n",
       "    .dataframe tbody tr th {\n",
       "        vertical-align: top;\n",
       "    }\n",
       "\n",
       "    .dataframe thead th {\n",
       "        text-align: right;\n",
       "    }\n",
       "</style>\n",
       "<table border=\"1\" class=\"dataframe\">\n",
       "  <thead>\n",
       "    <tr style=\"text-align: right;\">\n",
       "      <th></th>\n",
       "      <th>age</th>\n",
       "      <th>sex</th>\n",
       "      <th>cp</th>\n",
       "      <th>trestbps</th>\n",
       "      <th>chol</th>\n",
       "      <th>fbs</th>\n",
       "      <th>restecg</th>\n",
       "      <th>thalach</th>\n",
       "      <th>exang</th>\n",
       "      <th>oldpeak</th>\n",
       "      <th>slope</th>\n",
       "      <th>ca</th>\n",
       "      <th>thal</th>\n",
       "      <th>target</th>\n",
       "    </tr>\n",
       "  </thead>\n",
       "  <tbody>\n",
       "    <tr>\n",
       "      <th>0</th>\n",
       "      <td>52</td>\n",
       "      <td>1</td>\n",
       "      <td>0</td>\n",
       "      <td>125</td>\n",
       "      <td>212</td>\n",
       "      <td>0</td>\n",
       "      <td>1</td>\n",
       "      <td>168</td>\n",
       "      <td>0</td>\n",
       "      <td>1.0</td>\n",
       "      <td>2</td>\n",
       "      <td>2</td>\n",
       "      <td>3</td>\n",
       "      <td>0</td>\n",
       "    </tr>\n",
       "    <tr>\n",
       "      <th>1</th>\n",
       "      <td>53</td>\n",
       "      <td>1</td>\n",
       "      <td>0</td>\n",
       "      <td>140</td>\n",
       "      <td>203</td>\n",
       "      <td>1</td>\n",
       "      <td>0</td>\n",
       "      <td>155</td>\n",
       "      <td>1</td>\n",
       "      <td>3.1</td>\n",
       "      <td>0</td>\n",
       "      <td>0</td>\n",
       "      <td>3</td>\n",
       "      <td>0</td>\n",
       "    </tr>\n",
       "    <tr>\n",
       "      <th>2</th>\n",
       "      <td>70</td>\n",
       "      <td>1</td>\n",
       "      <td>0</td>\n",
       "      <td>145</td>\n",
       "      <td>174</td>\n",
       "      <td>0</td>\n",
       "      <td>1</td>\n",
       "      <td>125</td>\n",
       "      <td>1</td>\n",
       "      <td>2.6</td>\n",
       "      <td>0</td>\n",
       "      <td>0</td>\n",
       "      <td>3</td>\n",
       "      <td>0</td>\n",
       "    </tr>\n",
       "    <tr>\n",
       "      <th>3</th>\n",
       "      <td>61</td>\n",
       "      <td>1</td>\n",
       "      <td>0</td>\n",
       "      <td>148</td>\n",
       "      <td>203</td>\n",
       "      <td>0</td>\n",
       "      <td>1</td>\n",
       "      <td>161</td>\n",
       "      <td>0</td>\n",
       "      <td>0.0</td>\n",
       "      <td>2</td>\n",
       "      <td>1</td>\n",
       "      <td>3</td>\n",
       "      <td>0</td>\n",
       "    </tr>\n",
       "    <tr>\n",
       "      <th>4</th>\n",
       "      <td>62</td>\n",
       "      <td>0</td>\n",
       "      <td>0</td>\n",
       "      <td>138</td>\n",
       "      <td>294</td>\n",
       "      <td>1</td>\n",
       "      <td>1</td>\n",
       "      <td>106</td>\n",
       "      <td>0</td>\n",
       "      <td>1.9</td>\n",
       "      <td>1</td>\n",
       "      <td>3</td>\n",
       "      <td>2</td>\n",
       "      <td>0</td>\n",
       "    </tr>\n",
       "  </tbody>\n",
       "</table>\n",
       "</div>"
      ],
      "text/plain": [
       "   age  sex  cp  trestbps  chol  fbs  restecg  thalach  exang  oldpeak  slope  \\\n",
       "0   52    1   0       125   212    0        1      168      0      1.0      2   \n",
       "1   53    1   0       140   203    1        0      155      1      3.1      0   \n",
       "2   70    1   0       145   174    0        1      125      1      2.6      0   \n",
       "3   61    1   0       148   203    0        1      161      0      0.0      2   \n",
       "4   62    0   0       138   294    1        1      106      0      1.9      1   \n",
       "\n",
       "   ca  thal  target  \n",
       "0   2     3       0  \n",
       "1   0     3       0  \n",
       "2   0     3       0  \n",
       "3   1     3       0  \n",
       "4   3     2       0  "
      ]
     },
     "execution_count": 7,
     "metadata": {},
     "output_type": "execute_result"
    }
   ],
   "source": [
    "df = pd.read_csv(archive)\n",
    "\n",
    "df.head()"
   ]
  },
  {
   "cell_type": "markdown",
   "id": "a8200fb2",
   "metadata": {},
   "source": [
    "# Checking for appropriate info"
   ]
  },
  {
   "cell_type": "code",
   "execution_count": 8,
   "id": "2e757b87",
   "metadata": {},
   "outputs": [
    {
     "name": "stdout",
     "output_type": "stream",
     "text": [
      "<class 'pandas.core.frame.DataFrame'>\n",
      "RangeIndex: 1025 entries, 0 to 1024\n",
      "Data columns (total 14 columns):\n",
      " #   Column    Non-Null Count  Dtype  \n",
      "---  ------    --------------  -----  \n",
      " 0   age       1025 non-null   int64  \n",
      " 1   sex       1025 non-null   int64  \n",
      " 2   cp        1025 non-null   int64  \n",
      " 3   trestbps  1025 non-null   int64  \n",
      " 4   chol      1025 non-null   int64  \n",
      " 5   fbs       1025 non-null   int64  \n",
      " 6   restecg   1025 non-null   int64  \n",
      " 7   thalach   1025 non-null   int64  \n",
      " 8   exang     1025 non-null   int64  \n",
      " 9   oldpeak   1025 non-null   float64\n",
      " 10  slope     1025 non-null   int64  \n",
      " 11  ca        1025 non-null   int64  \n",
      " 12  thal      1025 non-null   int64  \n",
      " 13  target    1025 non-null   int64  \n",
      "dtypes: float64(1), int64(13)\n",
      "memory usage: 112.2 KB\n"
     ]
    }
   ],
   "source": [
    "df.info()"
   ]
  },
  {
   "cell_type": "code",
   "execution_count": 9,
   "id": "23d80a36",
   "metadata": {},
   "outputs": [
    {
     "data": {
      "text/plain": [
       "Index(['age', 'sex', 'cp', 'trestbps', 'chol', 'fbs', 'restecg', 'thalach',\n",
       "       'exang', 'oldpeak', 'slope', 'ca', 'thal', 'target'],\n",
       "      dtype='object')"
      ]
     },
     "execution_count": 9,
     "metadata": {},
     "output_type": "execute_result"
    }
   ],
   "source": [
    "df.columns"
   ]
  },
  {
   "cell_type": "code",
   "execution_count": 10,
   "id": "292a17ab",
   "metadata": {},
   "outputs": [
    {
     "data": {
      "text/html": [
       "<div>\n",
       "<style scoped>\n",
       "    .dataframe tbody tr th:only-of-type {\n",
       "        vertical-align: middle;\n",
       "    }\n",
       "\n",
       "    .dataframe tbody tr th {\n",
       "        vertical-align: top;\n",
       "    }\n",
       "\n",
       "    .dataframe thead th {\n",
       "        text-align: right;\n",
       "    }\n",
       "</style>\n",
       "<table border=\"1\" class=\"dataframe\">\n",
       "  <thead>\n",
       "    <tr style=\"text-align: right;\">\n",
       "      <th></th>\n",
       "      <th>count</th>\n",
       "      <th>mean</th>\n",
       "      <th>std</th>\n",
       "      <th>min</th>\n",
       "      <th>25%</th>\n",
       "      <th>50%</th>\n",
       "      <th>75%</th>\n",
       "      <th>max</th>\n",
       "    </tr>\n",
       "  </thead>\n",
       "  <tbody>\n",
       "    <tr>\n",
       "      <th>age</th>\n",
       "      <td>1025.0</td>\n",
       "      <td>54.434146</td>\n",
       "      <td>9.072290</td>\n",
       "      <td>29.0</td>\n",
       "      <td>48.0</td>\n",
       "      <td>56.0</td>\n",
       "      <td>61.0</td>\n",
       "      <td>77.0</td>\n",
       "    </tr>\n",
       "    <tr>\n",
       "      <th>sex</th>\n",
       "      <td>1025.0</td>\n",
       "      <td>0.695610</td>\n",
       "      <td>0.460373</td>\n",
       "      <td>0.0</td>\n",
       "      <td>0.0</td>\n",
       "      <td>1.0</td>\n",
       "      <td>1.0</td>\n",
       "      <td>1.0</td>\n",
       "    </tr>\n",
       "    <tr>\n",
       "      <th>cp</th>\n",
       "      <td>1025.0</td>\n",
       "      <td>0.942439</td>\n",
       "      <td>1.029641</td>\n",
       "      <td>0.0</td>\n",
       "      <td>0.0</td>\n",
       "      <td>1.0</td>\n",
       "      <td>2.0</td>\n",
       "      <td>3.0</td>\n",
       "    </tr>\n",
       "    <tr>\n",
       "      <th>trestbps</th>\n",
       "      <td>1025.0</td>\n",
       "      <td>131.611707</td>\n",
       "      <td>17.516718</td>\n",
       "      <td>94.0</td>\n",
       "      <td>120.0</td>\n",
       "      <td>130.0</td>\n",
       "      <td>140.0</td>\n",
       "      <td>200.0</td>\n",
       "    </tr>\n",
       "    <tr>\n",
       "      <th>chol</th>\n",
       "      <td>1025.0</td>\n",
       "      <td>246.000000</td>\n",
       "      <td>51.592510</td>\n",
       "      <td>126.0</td>\n",
       "      <td>211.0</td>\n",
       "      <td>240.0</td>\n",
       "      <td>275.0</td>\n",
       "      <td>564.0</td>\n",
       "    </tr>\n",
       "    <tr>\n",
       "      <th>fbs</th>\n",
       "      <td>1025.0</td>\n",
       "      <td>0.149268</td>\n",
       "      <td>0.356527</td>\n",
       "      <td>0.0</td>\n",
       "      <td>0.0</td>\n",
       "      <td>0.0</td>\n",
       "      <td>0.0</td>\n",
       "      <td>1.0</td>\n",
       "    </tr>\n",
       "    <tr>\n",
       "      <th>restecg</th>\n",
       "      <td>1025.0</td>\n",
       "      <td>0.529756</td>\n",
       "      <td>0.527878</td>\n",
       "      <td>0.0</td>\n",
       "      <td>0.0</td>\n",
       "      <td>1.0</td>\n",
       "      <td>1.0</td>\n",
       "      <td>2.0</td>\n",
       "    </tr>\n",
       "    <tr>\n",
       "      <th>thalach</th>\n",
       "      <td>1025.0</td>\n",
       "      <td>149.114146</td>\n",
       "      <td>23.005724</td>\n",
       "      <td>71.0</td>\n",
       "      <td>132.0</td>\n",
       "      <td>152.0</td>\n",
       "      <td>166.0</td>\n",
       "      <td>202.0</td>\n",
       "    </tr>\n",
       "    <tr>\n",
       "      <th>exang</th>\n",
       "      <td>1025.0</td>\n",
       "      <td>0.336585</td>\n",
       "      <td>0.472772</td>\n",
       "      <td>0.0</td>\n",
       "      <td>0.0</td>\n",
       "      <td>0.0</td>\n",
       "      <td>1.0</td>\n",
       "      <td>1.0</td>\n",
       "    </tr>\n",
       "    <tr>\n",
       "      <th>oldpeak</th>\n",
       "      <td>1025.0</td>\n",
       "      <td>1.071512</td>\n",
       "      <td>1.175053</td>\n",
       "      <td>0.0</td>\n",
       "      <td>0.0</td>\n",
       "      <td>0.8</td>\n",
       "      <td>1.8</td>\n",
       "      <td>6.2</td>\n",
       "    </tr>\n",
       "    <tr>\n",
       "      <th>slope</th>\n",
       "      <td>1025.0</td>\n",
       "      <td>1.385366</td>\n",
       "      <td>0.617755</td>\n",
       "      <td>0.0</td>\n",
       "      <td>1.0</td>\n",
       "      <td>1.0</td>\n",
       "      <td>2.0</td>\n",
       "      <td>2.0</td>\n",
       "    </tr>\n",
       "    <tr>\n",
       "      <th>ca</th>\n",
       "      <td>1025.0</td>\n",
       "      <td>0.754146</td>\n",
       "      <td>1.030798</td>\n",
       "      <td>0.0</td>\n",
       "      <td>0.0</td>\n",
       "      <td>0.0</td>\n",
       "      <td>1.0</td>\n",
       "      <td>4.0</td>\n",
       "    </tr>\n",
       "    <tr>\n",
       "      <th>thal</th>\n",
       "      <td>1025.0</td>\n",
       "      <td>2.323902</td>\n",
       "      <td>0.620660</td>\n",
       "      <td>0.0</td>\n",
       "      <td>2.0</td>\n",
       "      <td>2.0</td>\n",
       "      <td>3.0</td>\n",
       "      <td>3.0</td>\n",
       "    </tr>\n",
       "    <tr>\n",
       "      <th>target</th>\n",
       "      <td>1025.0</td>\n",
       "      <td>0.513171</td>\n",
       "      <td>0.500070</td>\n",
       "      <td>0.0</td>\n",
       "      <td>0.0</td>\n",
       "      <td>1.0</td>\n",
       "      <td>1.0</td>\n",
       "      <td>1.0</td>\n",
       "    </tr>\n",
       "  </tbody>\n",
       "</table>\n",
       "</div>"
      ],
      "text/plain": [
       "           count        mean        std    min    25%    50%    75%    max\n",
       "age       1025.0   54.434146   9.072290   29.0   48.0   56.0   61.0   77.0\n",
       "sex       1025.0    0.695610   0.460373    0.0    0.0    1.0    1.0    1.0\n",
       "cp        1025.0    0.942439   1.029641    0.0    0.0    1.0    2.0    3.0\n",
       "trestbps  1025.0  131.611707  17.516718   94.0  120.0  130.0  140.0  200.0\n",
       "chol      1025.0  246.000000  51.592510  126.0  211.0  240.0  275.0  564.0\n",
       "fbs       1025.0    0.149268   0.356527    0.0    0.0    0.0    0.0    1.0\n",
       "restecg   1025.0    0.529756   0.527878    0.0    0.0    1.0    1.0    2.0\n",
       "thalach   1025.0  149.114146  23.005724   71.0  132.0  152.0  166.0  202.0\n",
       "exang     1025.0    0.336585   0.472772    0.0    0.0    0.0    1.0    1.0\n",
       "oldpeak   1025.0    1.071512   1.175053    0.0    0.0    0.8    1.8    6.2\n",
       "slope     1025.0    1.385366   0.617755    0.0    1.0    1.0    2.0    2.0\n",
       "ca        1025.0    0.754146   1.030798    0.0    0.0    0.0    1.0    4.0\n",
       "thal      1025.0    2.323902   0.620660    0.0    2.0    2.0    3.0    3.0\n",
       "target    1025.0    0.513171   0.500070    0.0    0.0    1.0    1.0    1.0"
      ]
     },
     "execution_count": 10,
     "metadata": {},
     "output_type": "execute_result"
    }
   ],
   "source": [
    "df.describe().T"
   ]
  },
  {
   "cell_type": "code",
   "execution_count": 11,
   "id": "5f03ea6b",
   "metadata": {},
   "outputs": [
    {
     "data": {
      "text/plain": [
       "<Axes: ylabel='Density'>"
      ]
     },
     "execution_count": 11,
     "metadata": {},
     "output_type": "execute_result"
    },
    {
     "data": {
      "image/png": "[encoded data removed]",
      "text/plain": [
       "<Figure size 640x480 with 1 Axes>"
      ]
     },
     "metadata": {},
     "output_type": "display_data"
    }
   ],
   "source": [
    "df.oldpeak.plot(kind='density')"
   ]
  },
  {
   "cell_type": "code",
   "execution_count": 12,
   "id": "18465ebe",
   "metadata": {},
   "outputs": [
    {
     "data": {
      "text/plain": [
       "<Axes: ylabel='Density'>"
      ]
     },
     "execution_count": 12,
     "metadata": {},
     "output_type": "execute_result"
    },
    {
     "data": {
      "image/png": "[encoded data removed]",
      "text/plain": [
       "<Figure size 640x480 with 1 Axes>"
      ]
     },
     "metadata": {},
     "output_type": "display_data"
    }
   ],
   "source": [
    "df.thalach.plot(kind='density')"
   ]
  },
  {
   "cell_type": "markdown",
   "id": "c8670c94",
   "metadata": {},
   "source": [
    "## Data Transformation stages\n",
    "\n",
    "### 1. Data Rescaling\n",
    "### 2. Data Standardization\n",
    "### 3. Data Normalization\n",
    "### 4. Data Binarization"
   ]
  },
  {
   "cell_type": "markdown",
   "id": "ea4ec131",
   "metadata": {},
   "source": [
    "### Data Rescaling"
   ]
  },
  {
   "cell_type": "code",
   "execution_count": 13,
   "id": "7b68f6dd",
   "metadata": {},
   "outputs": [
    {
     "data": {
      "text/plain": [
       "array([[52.,  1.,  0., ...,  2.,  3.,  0.],\n",
       "       [53.,  1.,  0., ...,  0.,  3.,  0.],\n",
       "       [70.,  1.,  0., ...,  0.,  3.,  0.],\n",
       "       ...,\n",
       "       [47.,  1.,  0., ...,  1.,  2.,  0.],\n",
       "       [50.,  0.,  0., ...,  0.,  2.,  1.],\n",
       "       [54.,  1.,  0., ...,  1.,  3.,  0.]])"
      ]
     },
     "execution_count": 13,
     "metadata": {},
     "output_type": "execute_result"
    }
   ],
   "source": [
    "from sklearn.preprocessing import MinMaxScaler\n",
    "\n",
    "df_array = df.values\n",
    "df_array"
   ]
  },
  {
   "cell_type": "code",
   "execution_count": 14,
   "id": "f0623fd9",
   "metadata": {},
   "outputs": [],
   "source": [
    "# Divide the values into two\n",
    "\n",
    "X = df_array[:,0:13]\n",
    "Y = df_array[:, 13]"
   ]
  },
  {
   "cell_type": "code",
   "execution_count": 15,
   "id": "4454f643",
   "metadata": {},
   "outputs": [],
   "source": [
    "from numpy import set_printoptions"
   ]
  },
  {
   "cell_type": "code",
   "execution_count": 16,
   "id": "25711fbb",
   "metadata": {},
   "outputs": [
    {
     "name": "stdout",
     "output_type": "stream",
     "text": [
      "[[0.48 1.   0.   ... 1.   0.5  1.  ]\n",
      " [0.5  1.   0.   ... 0.   0.   1.  ]\n",
      " [0.85 1.   0.   ... 0.   0.   1.  ]\n",
      " ...\n",
      " [0.38 1.   0.   ... 0.5  0.25 0.67]\n",
      " [0.44 0.   0.   ... 1.   0.   0.67]\n",
      " [0.52 1.   0.   ... 0.5  0.25 1.  ]]\n"
     ]
    }
   ],
   "source": [
    "scaler = MinMaxScaler(feature_range=(0,1))\n",
    "rescaledx = scaler.fit_transform(X)\n",
    "set_printoptions(precision=2)\n",
    "print(rescaledx)"
   ]
  },
  {
   "cell_type": "code",
   "execution_count": 17,
   "id": "15834aac",
   "metadata": {},
   "outputs": [
    {
     "data": {
      "text/html": [
       "<div>\n",
       "<style scoped>\n",
       "    .dataframe tbody tr th:only-of-type {\n",
       "        vertical-align: middle;\n",
       "    }\n",
       "\n",
       "    .dataframe tbody tr th {\n",
       "        vertical-align: top;\n",
       "    }\n",
       "\n",
       "    .dataframe thead th {\n",
       "        text-align: right;\n",
       "    }\n",
       "</style>\n",
       "<table border=\"1\" class=\"dataframe\">\n",
       "  <thead>\n",
       "    <tr style=\"text-align: right;\">\n",
       "      <th></th>\n",
       "      <th>age</th>\n",
       "      <th>sex</th>\n",
       "      <th>cp</th>\n",
       "      <th>trestbps</th>\n",
       "      <th>chol</th>\n",
       "      <th>fbs</th>\n",
       "      <th>restecg</th>\n",
       "      <th>thalach</th>\n",
       "      <th>exang</th>\n",
       "      <th>oldpeak</th>\n",
       "      <th>slope</th>\n",
       "      <th>ca</th>\n",
       "      <th>thal</th>\n",
       "    </tr>\n",
       "  </thead>\n",
       "  <tbody>\n",
       "    <tr>\n",
       "      <th>0</th>\n",
       "      <td>0.479167</td>\n",
       "      <td>1.0</td>\n",
       "      <td>0.0</td>\n",
       "      <td>0.292453</td>\n",
       "      <td>0.196347</td>\n",
       "      <td>0.0</td>\n",
       "      <td>0.5</td>\n",
       "      <td>0.740458</td>\n",
       "      <td>0.0</td>\n",
       "      <td>0.161290</td>\n",
       "      <td>1.0</td>\n",
       "      <td>0.50</td>\n",
       "      <td>1.000000</td>\n",
       "    </tr>\n",
       "    <tr>\n",
       "      <th>1</th>\n",
       "      <td>0.500000</td>\n",
       "      <td>1.0</td>\n",
       "      <td>0.0</td>\n",
       "      <td>0.433962</td>\n",
       "      <td>0.175799</td>\n",
       "      <td>1.0</td>\n",
       "      <td>0.0</td>\n",
       "      <td>0.641221</td>\n",
       "      <td>1.0</td>\n",
       "      <td>0.500000</td>\n",
       "      <td>0.0</td>\n",
       "      <td>0.00</td>\n",
       "      <td>1.000000</td>\n",
       "    </tr>\n",
       "    <tr>\n",
       "      <th>2</th>\n",
       "      <td>0.854167</td>\n",
       "      <td>1.0</td>\n",
       "      <td>0.0</td>\n",
       "      <td>0.481132</td>\n",
       "      <td>0.109589</td>\n",
       "      <td>0.0</td>\n",
       "      <td>0.5</td>\n",
       "      <td>0.412214</td>\n",
       "      <td>1.0</td>\n",
       "      <td>0.419355</td>\n",
       "      <td>0.0</td>\n",
       "      <td>0.00</td>\n",
       "      <td>1.000000</td>\n",
       "    </tr>\n",
       "    <tr>\n",
       "      <th>3</th>\n",
       "      <td>0.666667</td>\n",
       "      <td>1.0</td>\n",
       "      <td>0.0</td>\n",
       "      <td>0.509434</td>\n",
       "      <td>0.175799</td>\n",
       "      <td>0.0</td>\n",
       "      <td>0.5</td>\n",
       "      <td>0.687023</td>\n",
       "      <td>0.0</td>\n",
       "      <td>0.000000</td>\n",
       "      <td>1.0</td>\n",
       "      <td>0.25</td>\n",
       "      <td>1.000000</td>\n",
       "    </tr>\n",
       "    <tr>\n",
       "      <th>4</th>\n",
       "      <td>0.687500</td>\n",
       "      <td>0.0</td>\n",
       "      <td>0.0</td>\n",
       "      <td>0.415094</td>\n",
       "      <td>0.383562</td>\n",
       "      <td>1.0</td>\n",
       "      <td>0.5</td>\n",
       "      <td>0.267176</td>\n",
       "      <td>0.0</td>\n",
       "      <td>0.306452</td>\n",
       "      <td>0.5</td>\n",
       "      <td>0.75</td>\n",
       "      <td>0.666667</td>\n",
       "    </tr>\n",
       "  </tbody>\n",
       "</table>\n",
       "</div>"
      ],
      "text/plain": [
       "        age  sex   cp  trestbps      chol  fbs  restecg   thalach  exang  \\\n",
       "0  0.479167  1.0  0.0  0.292453  0.196347  0.0      0.5  0.740458    0.0   \n",
       "1  0.500000  1.0  0.0  0.433962  0.175799  1.0      0.0  0.641221    1.0   \n",
       "2  0.854167  1.0  0.0  0.481132  0.109589  0.0      0.5  0.412214    1.0   \n",
       "3  0.666667  1.0  0.0  0.509434  0.175799  0.0      0.5  0.687023    0.0   \n",
       "4  0.687500  0.0  0.0  0.415094  0.383562  1.0      0.5  0.267176    0.0   \n",
       "\n",
       "    oldpeak  slope    ca      thal  \n",
       "0  0.161290    1.0  0.50  1.000000  \n",
       "1  0.500000    0.0  0.00  1.000000  \n",
       "2  0.419355    0.0  0.00  1.000000  \n",
       "3  0.000000    1.0  0.25  1.000000  \n",
       "4  0.306452    0.5  0.75  0.666667  "
      ]
     },
     "execution_count": 17,
     "metadata": {},
     "output_type": "execute_result"
    }
   ],
   "source": [
    "# Create a new dataframe using the rescaled dataset\n",
    "\n",
    "rescaledxdf = pd.DataFrame(rescaledx, columns=['age', 'sex', 'cp', 'trestbps', 'chol', 'fbs', 'restecg', 'thalach',\n",
    "       'exang', 'oldpeak', 'slope', 'ca', 'thal'])\n",
    "rescaledxdf.head()"
   ]
  },
  {
   "cell_type": "code",
   "execution_count": 18,
   "id": "dfc89d0f",
   "metadata": {},
   "outputs": [],
   "source": [
    "# Add the target variable\n",
    "rescaledxdf[\"target\"] = Y"
   ]
  },
  {
   "cell_type": "code",
   "execution_count": 19,
   "id": "506f7fdb",
   "metadata": {},
   "outputs": [
    {
     "data": {
      "text/html": [
       "<div>\n",
       "<style scoped>\n",
       "    .dataframe tbody tr th:only-of-type {\n",
       "        vertical-align: middle;\n",
       "    }\n",
       "\n",
       "    .dataframe tbody tr th {\n",
       "        vertical-align: top;\n",
       "    }\n",
       "\n",
       "    .dataframe thead th {\n",
       "        text-align: right;\n",
       "    }\n",
       "</style>\n",
       "<table border=\"1\" class=\"dataframe\">\n",
       "  <thead>\n",
       "    <tr style=\"text-align: right;\">\n",
       "      <th></th>\n",
       "      <th>age</th>\n",
       "      <th>sex</th>\n",
       "      <th>cp</th>\n",
       "      <th>trestbps</th>\n",
       "      <th>chol</th>\n",
       "      <th>fbs</th>\n",
       "      <th>restecg</th>\n",
       "      <th>thalach</th>\n",
       "      <th>exang</th>\n",
       "      <th>oldpeak</th>\n",
       "      <th>slope</th>\n",
       "      <th>ca</th>\n",
       "      <th>thal</th>\n",
       "      <th>target</th>\n",
       "    </tr>\n",
       "  </thead>\n",
       "  <tbody>\n",
       "    <tr>\n",
       "      <th>0</th>\n",
       "      <td>0.479167</td>\n",
       "      <td>1.0</td>\n",
       "      <td>0.0</td>\n",
       "      <td>0.292453</td>\n",
       "      <td>0.196347</td>\n",
       "      <td>0.0</td>\n",
       "      <td>0.5</td>\n",
       "      <td>0.740458</td>\n",
       "      <td>0.0</td>\n",
       "      <td>0.161290</td>\n",
       "      <td>1.0</td>\n",
       "      <td>0.50</td>\n",
       "      <td>1.000000</td>\n",
       "      <td>0.0</td>\n",
       "    </tr>\n",
       "    <tr>\n",
       "      <th>1</th>\n",
       "      <td>0.500000</td>\n",
       "      <td>1.0</td>\n",
       "      <td>0.0</td>\n",
       "      <td>0.433962</td>\n",
       "      <td>0.175799</td>\n",
       "      <td>1.0</td>\n",
       "      <td>0.0</td>\n",
       "      <td>0.641221</td>\n",
       "      <td>1.0</td>\n",
       "      <td>0.500000</td>\n",
       "      <td>0.0</td>\n",
       "      <td>0.00</td>\n",
       "      <td>1.000000</td>\n",
       "      <td>0.0</td>\n",
       "    </tr>\n",
       "    <tr>\n",
       "      <th>2</th>\n",
       "      <td>0.854167</td>\n",
       "      <td>1.0</td>\n",
       "      <td>0.0</td>\n",
       "      <td>0.481132</td>\n",
       "      <td>0.109589</td>\n",
       "      <td>0.0</td>\n",
       "      <td>0.5</td>\n",
       "      <td>0.412214</td>\n",
       "      <td>1.0</td>\n",
       "      <td>0.419355</td>\n",
       "      <td>0.0</td>\n",
       "      <td>0.00</td>\n",
       "      <td>1.000000</td>\n",
       "      <td>0.0</td>\n",
       "    </tr>\n",
       "    <tr>\n",
       "      <th>3</th>\n",
       "      <td>0.666667</td>\n",
       "      <td>1.0</td>\n",
       "      <td>0.0</td>\n",
       "      <td>0.509434</td>\n",
       "      <td>0.175799</td>\n",
       "      <td>0.0</td>\n",
       "      <td>0.5</td>\n",
       "      <td>0.687023</td>\n",
       "      <td>0.0</td>\n",
       "      <td>0.000000</td>\n",
       "      <td>1.0</td>\n",
       "      <td>0.25</td>\n",
       "      <td>1.000000</td>\n",
       "      <td>0.0</td>\n",
       "    </tr>\n",
       "    <tr>\n",
       "      <th>4</th>\n",
       "      <td>0.687500</td>\n",
       "      <td>0.0</td>\n",
       "      <td>0.0</td>\n",
       "      <td>0.415094</td>\n",
       "      <td>0.383562</td>\n",
       "      <td>1.0</td>\n",
       "      <td>0.5</td>\n",
       "      <td>0.267176</td>\n",
       "      <td>0.0</td>\n",
       "      <td>0.306452</td>\n",
       "      <td>0.5</td>\n",
       "      <td>0.75</td>\n",
       "      <td>0.666667</td>\n",
       "      <td>0.0</td>\n",
       "    </tr>\n",
       "  </tbody>\n",
       "</table>\n",
       "</div>"
      ],
      "text/plain": [
       "        age  sex   cp  trestbps      chol  fbs  restecg   thalach  exang  \\\n",
       "0  0.479167  1.0  0.0  0.292453  0.196347  0.0      0.5  0.740458    0.0   \n",
       "1  0.500000  1.0  0.0  0.433962  0.175799  1.0      0.0  0.641221    1.0   \n",
       "2  0.854167  1.0  0.0  0.481132  0.109589  0.0      0.5  0.412214    1.0   \n",
       "3  0.666667  1.0  0.0  0.509434  0.175799  0.0      0.5  0.687023    0.0   \n",
       "4  0.687500  0.0  0.0  0.415094  0.383562  1.0      0.5  0.267176    0.0   \n",
       "\n",
       "    oldpeak  slope    ca      thal  target  \n",
       "0  0.161290    1.0  0.50  1.000000     0.0  \n",
       "1  0.500000    0.0  0.00  1.000000     0.0  \n",
       "2  0.419355    0.0  0.00  1.000000     0.0  \n",
       "3  0.000000    1.0  0.25  1.000000     0.0  \n",
       "4  0.306452    0.5  0.75  0.666667     0.0  "
      ]
     },
     "execution_count": 19,
     "metadata": {},
     "output_type": "execute_result"
    }
   ],
   "source": [
    "rescaledxdf.head()"
   ]
  },
  {
   "cell_type": "markdown",
   "id": "e19deb8b",
   "metadata": {},
   "source": [
    "### Standardization"
   ]
  },
  {
   "cell_type": "code",
   "execution_count": 20,
   "id": "aadd1616",
   "metadata": {},
   "outputs": [
    {
     "data": {
      "text/plain": [
       "array([[0.48, 1.  , 0.  , ..., 0.5 , 1.  , 0.  ],\n",
       "       [0.5 , 1.  , 0.  , ..., 0.  , 1.  , 0.  ],\n",
       "       [0.85, 1.  , 0.  , ..., 0.  , 1.  , 0.  ],\n",
       "       ...,\n",
       "       [0.38, 1.  , 0.  , ..., 0.25, 0.67, 0.  ],\n",
       "       [0.44, 0.  , 0.  , ..., 0.  , 0.67, 1.  ],\n",
       "       [0.52, 1.  , 0.  , ..., 0.25, 1.  , 0.  ]])"
      ]
     },
     "execution_count": 20,
     "metadata": {},
     "output_type": "execute_result"
    }
   ],
   "source": [
    "from sklearn.preprocessing import StandardScaler\n",
    "\n",
    "standardx_array = rescaledxdf.values\n",
    "standardx_array"
   ]
  },
  {
   "cell_type": "code",
   "execution_count": 21,
   "id": "4cab2de8",
   "metadata": {},
   "outputs": [],
   "source": [
    "X = standardx_array[:, 0:13]\n",
    "Y = standardx_array[:, 13]"
   ]
  },
  {
   "cell_type": "code",
   "execution_count": 22,
   "id": "2e7c208d",
   "metadata": {},
   "outputs": [
    {
     "name": "stdout",
     "output_type": "stream",
     "text": [
      "[[-0.27  0.66 -0.92 ...  1.    1.21  1.09]\n",
      " [-0.16  0.66 -0.92 ... -2.24 -0.73  1.09]\n",
      " [ 1.72  0.66 -0.92 ... -2.24 -0.73  1.09]\n",
      " ...\n",
      " [-0.82  0.66 -0.92 ... -0.62  0.24 -0.52]\n",
      " [-0.49 -1.51 -0.92 ...  1.   -0.73 -0.52]\n",
      " [-0.05  0.66 -0.92 ... -0.62  0.24  1.09]]\n"
     ]
    }
   ],
   "source": [
    "scaler = StandardScaler().fit(X)\n",
    "data = scaler.transform(X)\n",
    "set_printoptions(precision=2)\n",
    "print(data)"
   ]
  },
  {
   "cell_type": "code",
   "execution_count": 23,
   "id": "067261ba",
   "metadata": {},
   "outputs": [],
   "source": [
    "# Create a new dataframe using the standardized dataset\n",
    "\n",
    "standard_df = pd.DataFrame(data, columns=['age', 'sex', 'cp', 'trestbps', 'chol', 'fbs', 'restecg', 'thalach',\n",
    "       'exang', 'oldpeak', 'slope', 'ca', 'thal'])\n",
    "\n",
    "# Add the target variable to the dataframe\n",
    "\n",
    "standard_df[\"target\"] = Y"
   ]
  },
  {
   "cell_type": "code",
   "execution_count": 24,
   "id": "aacf2434",
   "metadata": {},
   "outputs": [
    {
     "data": {
      "text/html": [
       "<div>\n",
       "<style scoped>\n",
       "    .dataframe tbody tr th:only-of-type {\n",
       "        vertical-align: middle;\n",
       "    }\n",
       "\n",
       "    .dataframe tbody tr th {\n",
       "        vertical-align: top;\n",
       "    }\n",
       "\n",
       "    .dataframe thead th {\n",
       "        text-align: right;\n",
       "    }\n",
       "</style>\n",
       "<table border=\"1\" class=\"dataframe\">\n",
       "  <thead>\n",
       "    <tr style=\"text-align: right;\">\n",
       "      <th></th>\n",
       "      <th>age</th>\n",
       "      <th>sex</th>\n",
       "      <th>cp</th>\n",
       "      <th>trestbps</th>\n",
       "      <th>chol</th>\n",
       "      <th>fbs</th>\n",
       "      <th>restecg</th>\n",
       "      <th>thalach</th>\n",
       "      <th>exang</th>\n",
       "      <th>oldpeak</th>\n",
       "      <th>slope</th>\n",
       "      <th>ca</th>\n",
       "      <th>thal</th>\n",
       "      <th>target</th>\n",
       "    </tr>\n",
       "  </thead>\n",
       "  <tbody>\n",
       "    <tr>\n",
       "      <th>0</th>\n",
       "      <td>-0.268437</td>\n",
       "      <td>0.661504</td>\n",
       "      <td>-0.915755</td>\n",
       "      <td>-0.377636</td>\n",
       "      <td>-0.659332</td>\n",
       "      <td>-0.418878</td>\n",
       "      <td>0.891255</td>\n",
       "      <td>0.821321</td>\n",
       "      <td>-0.712287</td>\n",
       "      <td>-0.060888</td>\n",
       "      <td>0.995433</td>\n",
       "      <td>1.209221</td>\n",
       "      <td>1.089852</td>\n",
       "      <td>0.0</td>\n",
       "    </tr>\n",
       "    <tr>\n",
       "      <th>1</th>\n",
       "      <td>-0.158157</td>\n",
       "      <td>0.661504</td>\n",
       "      <td>-0.915755</td>\n",
       "      <td>0.479107</td>\n",
       "      <td>-0.833861</td>\n",
       "      <td>2.387330</td>\n",
       "      <td>-1.004049</td>\n",
       "      <td>0.255968</td>\n",
       "      <td>1.403928</td>\n",
       "      <td>1.727137</td>\n",
       "      <td>-2.243675</td>\n",
       "      <td>-0.731971</td>\n",
       "      <td>1.089852</td>\n",
       "      <td>0.0</td>\n",
       "    </tr>\n",
       "    <tr>\n",
       "      <th>2</th>\n",
       "      <td>1.716595</td>\n",
       "      <td>0.661504</td>\n",
       "      <td>-0.915755</td>\n",
       "      <td>0.764688</td>\n",
       "      <td>-1.396233</td>\n",
       "      <td>-0.418878</td>\n",
       "      <td>0.891255</td>\n",
       "      <td>-1.048692</td>\n",
       "      <td>1.403928</td>\n",
       "      <td>1.301417</td>\n",
       "      <td>-2.243675</td>\n",
       "      <td>-0.731971</td>\n",
       "      <td>1.089852</td>\n",
       "      <td>0.0</td>\n",
       "    </tr>\n",
       "    <tr>\n",
       "      <th>3</th>\n",
       "      <td>0.724079</td>\n",
       "      <td>0.661504</td>\n",
       "      <td>-0.915755</td>\n",
       "      <td>0.936037</td>\n",
       "      <td>-0.833861</td>\n",
       "      <td>-0.418878</td>\n",
       "      <td>0.891255</td>\n",
       "      <td>0.516900</td>\n",
       "      <td>-0.712287</td>\n",
       "      <td>-0.912329</td>\n",
       "      <td>0.995433</td>\n",
       "      <td>0.238625</td>\n",
       "      <td>1.089852</td>\n",
       "      <td>0.0</td>\n",
       "    </tr>\n",
       "    <tr>\n",
       "      <th>4</th>\n",
       "      <td>0.834359</td>\n",
       "      <td>-1.511706</td>\n",
       "      <td>-0.915755</td>\n",
       "      <td>0.364875</td>\n",
       "      <td>0.930822</td>\n",
       "      <td>2.387330</td>\n",
       "      <td>0.891255</td>\n",
       "      <td>-1.874977</td>\n",
       "      <td>-0.712287</td>\n",
       "      <td>0.705408</td>\n",
       "      <td>-0.624121</td>\n",
       "      <td>2.179817</td>\n",
       "      <td>-0.522122</td>\n",
       "      <td>0.0</td>\n",
       "    </tr>\n",
       "  </tbody>\n",
       "</table>\n",
       "</div>"
      ],
      "text/plain": [
       "        age       sex        cp  trestbps      chol       fbs   restecg  \\\n",
       "0 -0.268437  0.661504 -0.915755 -0.377636 -0.659332 -0.418878  0.891255   \n",
       "1 -0.158157  0.661504 -0.915755  0.479107 -0.833861  2.387330 -1.004049   \n",
       "2  1.716595  0.661504 -0.915755  0.764688 -1.396233 -0.418878  0.891255   \n",
       "3  0.724079  0.661504 -0.915755  0.936037 -0.833861 -0.418878  0.891255   \n",
       "4  0.834359 -1.511706 -0.915755  0.364875  0.930822  2.387330  0.891255   \n",
       "\n",
       "    thalach     exang   oldpeak     slope        ca      thal  target  \n",
       "0  0.821321 -0.712287 -0.060888  0.995433  1.209221  1.089852     0.0  \n",
       "1  0.255968  1.403928  1.727137 -2.243675 -0.731971  1.089852     0.0  \n",
       "2 -1.048692  1.403928  1.301417 -2.243675 -0.731971  1.089852     0.0  \n",
       "3  0.516900 -0.712287 -0.912329  0.995433  0.238625  1.089852     0.0  \n",
       "4 -1.874977 -0.712287  0.705408 -0.624121  2.179817 -0.522122     0.0  "
      ]
     },
     "execution_count": 24,
     "metadata": {},
     "output_type": "execute_result"
    }
   ],
   "source": [
    "standard_df.head()"
   ]
  },
  {
   "cell_type": "markdown",
   "id": "b528c45f",
   "metadata": {},
   "source": [
    "### Normalization"
   ]
  },
  {
   "cell_type": "code",
   "execution_count": 25,
   "id": "964caf4c",
   "metadata": {},
   "outputs": [],
   "source": [
    "from sklearn.preprocessing import Normalizer"
   ]
  },
  {
   "cell_type": "code",
   "execution_count": 26,
   "id": "2d4375e5",
   "metadata": {},
   "outputs": [],
   "source": [
    "normal_arr = standard_df.values"
   ]
  },
  {
   "cell_type": "code",
   "execution_count": 27,
   "id": "c9371e26",
   "metadata": {},
   "outputs": [],
   "source": [
    "X = normal_arr[:, 0:13]\n",
    "Y = normal_arr[:, 13]"
   ]
  },
  {
   "cell_type": "code",
   "execution_count": 28,
   "id": "b12072b5",
   "metadata": {},
   "outputs": [],
   "source": [
    "normalizer = Normalizer().fit(X).transform(X)"
   ]
  },
  {
   "cell_type": "code",
   "execution_count": 29,
   "id": "9f6927cd",
   "metadata": {},
   "outputs": [
    {
     "data": {
      "text/plain": [
       "array([[-0.1 ,  0.24, -0.33, ...,  0.36,  0.44,  0.39],\n",
       "       [-0.03,  0.15, -0.2 , ..., -0.49, -0.16,  0.24],\n",
       "       [ 0.39,  0.15, -0.21, ..., -0.51, -0.17,  0.25],\n",
       "       ...,\n",
       "       [-0.27,  0.21, -0.3 , ..., -0.2 ,  0.08, -0.17],\n",
       "       [-0.16, -0.49, -0.3 , ...,  0.32, -0.24, -0.17],\n",
       "       [-0.02,  0.23, -0.31, ..., -0.21,  0.08,  0.37]])"
      ]
     },
     "execution_count": 29,
     "metadata": {},
     "output_type": "execute_result"
    }
   ],
   "source": [
    "set_printoptions(precision=2)\n",
    "normalizer"
   ]
  },
  {
   "cell_type": "code",
   "execution_count": 30,
   "id": "727261ca",
   "metadata": {},
   "outputs": [
    {
     "data": {
      "text/html": [
       "<div>\n",
       "<style scoped>\n",
       "    .dataframe tbody tr th:only-of-type {\n",
       "        vertical-align: middle;\n",
       "    }\n",
       "\n",
       "    .dataframe tbody tr th {\n",
       "        vertical-align: top;\n",
       "    }\n",
       "\n",
       "    .dataframe thead th {\n",
       "        text-align: right;\n",
       "    }\n",
       "</style>\n",
       "<table border=\"1\" class=\"dataframe\">\n",
       "  <thead>\n",
       "    <tr style=\"text-align: right;\">\n",
       "      <th></th>\n",
       "      <th>age</th>\n",
       "      <th>sex</th>\n",
       "      <th>cp</th>\n",
       "      <th>trestbps</th>\n",
       "      <th>chol</th>\n",
       "      <th>fbs</th>\n",
       "      <th>restecg</th>\n",
       "      <th>thalach</th>\n",
       "      <th>exang</th>\n",
       "      <th>oldpeak</th>\n",
       "      <th>slope</th>\n",
       "      <th>ca</th>\n",
       "      <th>thal</th>\n",
       "      <th>target</th>\n",
       "    </tr>\n",
       "  </thead>\n",
       "  <tbody>\n",
       "    <tr>\n",
       "      <th>0</th>\n",
       "      <td>-0.096601</td>\n",
       "      <td>0.238052</td>\n",
       "      <td>-0.329547</td>\n",
       "      <td>-0.135897</td>\n",
       "      <td>-0.237270</td>\n",
       "      <td>-0.150739</td>\n",
       "      <td>0.320731</td>\n",
       "      <td>0.295564</td>\n",
       "      <td>-0.256327</td>\n",
       "      <td>-0.021912</td>\n",
       "      <td>0.358221</td>\n",
       "      <td>0.435155</td>\n",
       "      <td>0.392198</td>\n",
       "      <td>0.0</td>\n",
       "    </tr>\n",
       "    <tr>\n",
       "      <th>1</th>\n",
       "      <td>-0.034753</td>\n",
       "      <td>0.145357</td>\n",
       "      <td>-0.201225</td>\n",
       "      <td>0.105277</td>\n",
       "      <td>-0.183230</td>\n",
       "      <td>0.524584</td>\n",
       "      <td>-0.220626</td>\n",
       "      <td>0.056246</td>\n",
       "      <td>0.308494</td>\n",
       "      <td>0.379515</td>\n",
       "      <td>-0.493018</td>\n",
       "      <td>-0.160841</td>\n",
       "      <td>0.239480</td>\n",
       "      <td>0.0</td>\n",
       "    </tr>\n",
       "    <tr>\n",
       "      <th>2</th>\n",
       "      <td>0.391259</td>\n",
       "      <td>0.150775</td>\n",
       "      <td>-0.208725</td>\n",
       "      <td>0.174293</td>\n",
       "      <td>-0.318239</td>\n",
       "      <td>-0.095474</td>\n",
       "      <td>0.203141</td>\n",
       "      <td>-0.239025</td>\n",
       "      <td>0.319993</td>\n",
       "      <td>0.296628</td>\n",
       "      <td>-0.511394</td>\n",
       "      <td>-0.166836</td>\n",
       "      <td>0.248407</td>\n",
       "      <td>0.0</td>\n",
       "    </tr>\n",
       "    <tr>\n",
       "      <th>3</th>\n",
       "      <td>0.253103</td>\n",
       "      <td>0.231229</td>\n",
       "      <td>-0.320103</td>\n",
       "      <td>0.327192</td>\n",
       "      <td>-0.291477</td>\n",
       "      <td>-0.146419</td>\n",
       "      <td>0.311539</td>\n",
       "      <td>0.180683</td>\n",
       "      <td>-0.248981</td>\n",
       "      <td>-0.318905</td>\n",
       "      <td>0.347955</td>\n",
       "      <td>0.083411</td>\n",
       "      <td>0.380959</td>\n",
       "      <td>0.0</td>\n",
       "    </tr>\n",
       "    <tr>\n",
       "      <th>4</th>\n",
       "      <td>0.181009</td>\n",
       "      <td>-0.327955</td>\n",
       "      <td>-0.198667</td>\n",
       "      <td>0.079157</td>\n",
       "      <td>0.201935</td>\n",
       "      <td>0.517915</td>\n",
       "      <td>0.193352</td>\n",
       "      <td>-0.406764</td>\n",
       "      <td>-0.154526</td>\n",
       "      <td>0.153034</td>\n",
       "      <td>-0.135399</td>\n",
       "      <td>0.472897</td>\n",
       "      <td>-0.113271</td>\n",
       "      <td>0.0</td>\n",
       "    </tr>\n",
       "  </tbody>\n",
       "</table>\n",
       "</div>"
      ],
      "text/plain": [
       "        age       sex        cp  trestbps      chol       fbs   restecg  \\\n",
       "0 -0.096601  0.238052 -0.329547 -0.135897 -0.237270 -0.150739  0.320731   \n",
       "1 -0.034753  0.145357 -0.201225  0.105277 -0.183230  0.524584 -0.220626   \n",
       "2  0.391259  0.150775 -0.208725  0.174293 -0.318239 -0.095474  0.203141   \n",
       "3  0.253103  0.231229 -0.320103  0.327192 -0.291477 -0.146419  0.311539   \n",
       "4  0.181009 -0.327955 -0.198667  0.079157  0.201935  0.517915  0.193352   \n",
       "\n",
       "    thalach     exang   oldpeak     slope        ca      thal  target  \n",
       "0  0.295564 -0.256327 -0.021912  0.358221  0.435155  0.392198     0.0  \n",
       "1  0.056246  0.308494  0.379515 -0.493018 -0.160841  0.239480     0.0  \n",
       "2 -0.239025  0.319993  0.296628 -0.511394 -0.166836  0.248407     0.0  \n",
       "3  0.180683 -0.248981 -0.318905  0.347955  0.083411  0.380959     0.0  \n",
       "4 -0.406764 -0.154526  0.153034 -0.135399  0.472897 -0.113271     0.0  "
      ]
     },
     "execution_count": 30,
     "metadata": {},
     "output_type": "execute_result"
    }
   ],
   "source": [
    "# Create the dataframe with the normalized dataset\n",
    "\n",
    "normalized_df = pd.DataFrame(normalizer, columns=['age', 'sex', 'cp', 'trestbps', 'chol', 'fbs', 'restecg', 'thalach',\n",
    "       'exang', 'oldpeak', 'slope', 'ca', 'thal'])\n",
    "\n",
    "# Add the target variable\n",
    "\n",
    "normalized_df[\"target\"] = Y\n",
    "\n",
    "normalized_df.head()"
   ]
  },
  {
   "cell_type": "code",
   "execution_count": 31,
   "id": "707e3776",
   "metadata": {},
   "outputs": [
    {
     "data": {
      "text/plain": [
       "<Axes: ylabel='Density'>"
      ]
     },
     "execution_count": 31,
     "metadata": {},
     "output_type": "execute_result"
    },
    {
     "data": {
      "image/png": "[encoded data removed]",
      "text/plain": [
       "<Figure size 640x480 with 1 Axes>"
      ]
     },
     "metadata": {},
     "output_type": "display_data"
    }
   ],
   "source": [
    "normalized_df.thalach.plot(kind='density')"
   ]
  },
  {
   "cell_type": "code",
   "execution_count": 32,
   "id": "c4e960f4",
   "metadata": {},
   "outputs": [
    {
     "data": {
      "text/plain": [
       "<Axes: ylabel='Density'>"
      ]
     },
     "execution_count": 32,
     "metadata": {},
     "output_type": "execute_result"
    },
    {
     "data": {
      "image/png": "[encoded data removed]",
      "text/plain": [
       "<Figure size 640x480 with 1 Axes>"
      ]
     },
     "metadata": {},
     "output_type": "display_data"
    }
   ],
   "source": [
    "df.thalach.plot(kind='density')"
   ]
  },
  {
   "cell_type": "code",
   "execution_count": 33,
   "id": "7849ba1f",
   "metadata": {},
   "outputs": [
    {
     "data": {
      "text/plain": [
       "<Axes: ylabel='Density'>"
      ]
     },
     "execution_count": 33,
     "metadata": {},
     "output_type": "execute_result"
    },
    {
     "data": {
      "image/png": "[encoded data removed]",
      "text/plain": [
       "<Figure size 640x480 with 1 Axes>"
      ]
     },
     "metadata": {},
     "output_type": "display_data"
    }
   ],
   "source": [
    "normalized_df.oldpeak.plot(kind='density')"
   ]
  },
  {
   "cell_type": "code",
   "execution_count": 34,
   "id": "8fe8b3df",
   "metadata": {},
   "outputs": [
    {
     "data": {
      "text/plain": [
       "<Axes: ylabel='Density'>"
      ]
     },
     "execution_count": 34,
     "metadata": {},
     "output_type": "execute_result"
    },
    {
     "data": {
      "image/png": "[encoded data removed]",
      "text/plain": [
       "<Figure size 640x480 with 1 Axes>"
      ]
     },
     "metadata": {},
     "output_type": "display_data"
    }
   ],
   "source": [
    "df.oldpeak.plot(kind='density')"
   ]
  },
  {
   "cell_type": "code",
   "execution_count": 35,
   "id": "9736102f",
   "metadata": {},
   "outputs": [
    {
     "data": {
      "text/html": [
       "<div>\n",
       "<style scoped>\n",
       "    .dataframe tbody tr th:only-of-type {\n",
       "        vertical-align: middle;\n",
       "    }\n",
       "\n",
       "    .dataframe tbody tr th {\n",
       "        vertical-align: top;\n",
       "    }\n",
       "\n",
       "    .dataframe thead th {\n",
       "        text-align: right;\n",
       "    }\n",
       "</style>\n",
       "<table border=\"1\" class=\"dataframe\">\n",
       "  <thead>\n",
       "    <tr style=\"text-align: right;\">\n",
       "      <th></th>\n",
       "      <th>age</th>\n",
       "      <th>sex</th>\n",
       "      <th>cp</th>\n",
       "      <th>trestbps</th>\n",
       "      <th>chol</th>\n",
       "      <th>fbs</th>\n",
       "      <th>restecg</th>\n",
       "      <th>thalach</th>\n",
       "      <th>exang</th>\n",
       "      <th>oldpeak</th>\n",
       "      <th>slope</th>\n",
       "      <th>ca</th>\n",
       "      <th>thal</th>\n",
       "      <th>target</th>\n",
       "    </tr>\n",
       "  </thead>\n",
       "  <tbody>\n",
       "    <tr>\n",
       "      <th>0</th>\n",
       "      <td>-0.096601</td>\n",
       "      <td>0.238052</td>\n",
       "      <td>-0.329547</td>\n",
       "      <td>-0.135897</td>\n",
       "      <td>-0.237270</td>\n",
       "      <td>-0.150739</td>\n",
       "      <td>0.320731</td>\n",
       "      <td>0.295564</td>\n",
       "      <td>-0.256327</td>\n",
       "      <td>-0.021912</td>\n",
       "      <td>0.358221</td>\n",
       "      <td>0.435155</td>\n",
       "      <td>0.392198</td>\n",
       "      <td>0.0</td>\n",
       "    </tr>\n",
       "    <tr>\n",
       "      <th>1</th>\n",
       "      <td>-0.034753</td>\n",
       "      <td>0.145357</td>\n",
       "      <td>-0.201225</td>\n",
       "      <td>0.105277</td>\n",
       "      <td>-0.183230</td>\n",
       "      <td>0.524584</td>\n",
       "      <td>-0.220626</td>\n",
       "      <td>0.056246</td>\n",
       "      <td>0.308494</td>\n",
       "      <td>0.379515</td>\n",
       "      <td>-0.493018</td>\n",
       "      <td>-0.160841</td>\n",
       "      <td>0.239480</td>\n",
       "      <td>0.0</td>\n",
       "    </tr>\n",
       "    <tr>\n",
       "      <th>2</th>\n",
       "      <td>0.391259</td>\n",
       "      <td>0.150775</td>\n",
       "      <td>-0.208725</td>\n",
       "      <td>0.174293</td>\n",
       "      <td>-0.318239</td>\n",
       "      <td>-0.095474</td>\n",
       "      <td>0.203141</td>\n",
       "      <td>-0.239025</td>\n",
       "      <td>0.319993</td>\n",
       "      <td>0.296628</td>\n",
       "      <td>-0.511394</td>\n",
       "      <td>-0.166836</td>\n",
       "      <td>0.248407</td>\n",
       "      <td>0.0</td>\n",
       "    </tr>\n",
       "    <tr>\n",
       "      <th>3</th>\n",
       "      <td>0.253103</td>\n",
       "      <td>0.231229</td>\n",
       "      <td>-0.320103</td>\n",
       "      <td>0.327192</td>\n",
       "      <td>-0.291477</td>\n",
       "      <td>-0.146419</td>\n",
       "      <td>0.311539</td>\n",
       "      <td>0.180683</td>\n",
       "      <td>-0.248981</td>\n",
       "      <td>-0.318905</td>\n",
       "      <td>0.347955</td>\n",
       "      <td>0.083411</td>\n",
       "      <td>0.380959</td>\n",
       "      <td>0.0</td>\n",
       "    </tr>\n",
       "    <tr>\n",
       "      <th>4</th>\n",
       "      <td>0.181009</td>\n",
       "      <td>-0.327955</td>\n",
       "      <td>-0.198667</td>\n",
       "      <td>0.079157</td>\n",
       "      <td>0.201935</td>\n",
       "      <td>0.517915</td>\n",
       "      <td>0.193352</td>\n",
       "      <td>-0.406764</td>\n",
       "      <td>-0.154526</td>\n",
       "      <td>0.153034</td>\n",
       "      <td>-0.135399</td>\n",
       "      <td>0.472897</td>\n",
       "      <td>-0.113271</td>\n",
       "      <td>0.0</td>\n",
       "    </tr>\n",
       "  </tbody>\n",
       "</table>\n",
       "</div>"
      ],
      "text/plain": [
       "        age       sex        cp  trestbps      chol       fbs   restecg  \\\n",
       "0 -0.096601  0.238052 -0.329547 -0.135897 -0.237270 -0.150739  0.320731   \n",
       "1 -0.034753  0.145357 -0.201225  0.105277 -0.183230  0.524584 -0.220626   \n",
       "2  0.391259  0.150775 -0.208725  0.174293 -0.318239 -0.095474  0.203141   \n",
       "3  0.253103  0.231229 -0.320103  0.327192 -0.291477 -0.146419  0.311539   \n",
       "4  0.181009 -0.327955 -0.198667  0.079157  0.201935  0.517915  0.193352   \n",
       "\n",
       "    thalach     exang   oldpeak     slope        ca      thal  target  \n",
       "0  0.295564 -0.256327 -0.021912  0.358221  0.435155  0.392198     0.0  \n",
       "1  0.056246  0.308494  0.379515 -0.493018 -0.160841  0.239480     0.0  \n",
       "2 -0.239025  0.319993  0.296628 -0.511394 -0.166836  0.248407     0.0  \n",
       "3  0.180683 -0.248981 -0.318905  0.347955  0.083411  0.380959     0.0  \n",
       "4 -0.406764 -0.154526  0.153034 -0.135399  0.472897 -0.113271     0.0  "
      ]
     },
     "execution_count": 35,
     "metadata": {},
     "output_type": "execute_result"
    }
   ],
   "source": [
    "normalized_df.head()"
   ]
  },
  {
   "cell_type": "markdown",
   "id": "4315483e",
   "metadata": {},
   "source": [
    "## Machine Learning Prediction"
   ]
  },
  {
   "cell_type": "code",
   "execution_count": 36,
   "id": "ba4d8d41",
   "metadata": {},
   "outputs": [],
   "source": [
    "# Create the input and output variable\n",
    "\n",
    "X = normalized_df.drop(\"target\", axis=1)\n",
    "Y = normalized_df[\"target\"]"
   ]
  },
  {
   "cell_type": "code",
   "execution_count": 63,
   "id": "fc192a93",
   "metadata": {},
   "outputs": [],
   "source": [
    "# Import the regression model\n",
    "\n",
    "from sklearn.ensemble import RandomForestClassifier\n",
    "clf = RandomForestClassifier()"
   ]
  },
  {
   "cell_type": "code",
   "execution_count": 54,
   "id": "70008cb4",
   "metadata": {},
   "outputs": [],
   "source": [
    "# Import the train_test_split function\n",
    "\n",
    "from sklearn.model_selection import train_test_split\n",
    "X_train, X_test, Y_train, Y_test = train_test_split(X, Y, test_size=0.5)"
   ]
  },
  {
   "cell_type": "code",
   "execution_count": 55,
   "id": "0f773575",
   "metadata": {},
   "outputs": [
    {
     "data": {
      "text/html": [
       "<style>#sk-container-id-4 {color: black;background-color: white;}#sk-container-id-4 pre{padding: 0;}#sk-container-id-4 div.sk-toggleable {background-color: white;}#sk-container-id-4 label.sk-toggleable__label {cursor: pointer;display: block;width: 100%;margin-bottom: 0;padding: 0.3em;box-sizing: border-box;text-align: center;}#sk-container-id-4 label.sk-toggleable__label-arrow:before {content: \"▸\";float: left;margin-right: 0.25em;color: #696969;}#sk-container-id-4 label.sk-toggleable__label-arrow:hover:before {color: black;}#sk-container-id-4 div.sk-estimator:hover label.sk-toggleable__label-arrow:before {color: black;}#sk-container-id-4 div.sk-toggleable__content {max-height: 0;max-width: 0;overflow: hidden;text-align: left;background-color: #f0f8ff;}#sk-container-id-4 div.sk-toggleable__content pre {margin: 0.2em;color: black;border-radius: 0.25em;background-color: #f0f8ff;}#sk-container-id-4 input.sk-toggleable__control:checked~div.sk-toggleable__content {max-height: 200px;max-width: 100%;overflow: auto;}#sk-container-id-4 input.sk-toggleable__control:checked~label.sk-toggleable__label-arrow:before {content: \"▾\";}#sk-container-id-4 div.sk-estimator input.sk-toggleable__control:checked~label.sk-toggleable__label {background-color: #d4ebff;}#sk-container-id-4 div.sk-label input.sk-toggleable__control:checked~label.sk-toggleable__label {background-color: #d4ebff;}#sk-container-id-4 input.sk-hidden--visually {border: 0;clip: rect(1px 1px 1px 1px);clip: rect(1px, 1px, 1px, 1px);height: 1px;margin: -1px;overflow: hidden;padding: 0;position: absolute;width: 1px;}#sk-container-id-4 div.sk-estimator {font-family: monospace;background-color: #f0f8ff;border: 1px dotted black;border-radius: 0.25em;box-sizing: border-box;margin-bottom: 0.5em;}#sk-container-id-4 div.sk-estimator:hover {background-color: #d4ebff;}#sk-container-id-4 div.sk-parallel-item::after {content: \"\";width: 100%;border-bottom: 1px solid gray;flex-grow: 1;}#sk-container-id-4 div.sk-label:hover label.sk-toggleable__label {background-color: #d4ebff;}#sk-container-id-4 div.sk-serial::before {content: \"\";position: absolute;border-left: 1px solid gray;box-sizing: border-box;top: 0;bottom: 0;left: 50%;z-index: 0;}#sk-container-id-4 div.sk-serial {display: flex;flex-direction: column;align-items: center;background-color: white;padding-right: 0.2em;padding-left: 0.2em;position: relative;}#sk-container-id-4 div.sk-item {position: relative;z-index: 1;}#sk-container-id-4 div.sk-parallel {display: flex;align-items: stretch;justify-content: center;background-color: white;position: relative;}#sk-container-id-4 div.sk-item::before, #sk-container-id-4 div.sk-parallel-item::before {content: \"\";position: absolute;border-left: 1px solid gray;box-sizing: border-box;top: 0;bottom: 0;left: 50%;z-index: -1;}#sk-container-id-4 div.sk-parallel-item {display: flex;flex-direction: column;z-index: 1;position: relative;background-color: white;}#sk-container-id-4 div.sk-parallel-item:first-child::after {align-self: flex-end;width: 50%;}#sk-container-id-4 div.sk-parallel-item:last-child::after {align-self: flex-start;width: 50%;}#sk-container-id-4 div.sk-parallel-item:only-child::after {width: 0;}#sk-container-id-4 div.sk-dashed-wrapped {border: 1px dashed gray;margin: 0 0.4em 0.5em 0.4em;box-sizing: border-box;padding-bottom: 0.4em;background-color: white;}#sk-container-id-4 div.sk-label label {font-family: monospace;font-weight: bold;display: inline-block;line-height: 1.2em;}#sk-container-id-4 div.sk-label-container {text-align: center;}#sk-container-id-4 div.sk-container {/* jupyter's `normalize.less` sets `[hidden] { display: none; }` but bootstrap.min.css set `[hidden] { display: none !important; }` so we also need the `!important` here to be able to override the default hidden behavior on the sphinx rendered scikit-learn.org. See: https://github.com/scikit-learn/scikit-learn/issues/21755 */display: inline-block !important;position: relative;}#sk-container-id-4 div.sk-text-repr-fallback {display: none;}</style><div id=\"sk-container-id-4\" class=\"sk-top-container\"><div class=\"sk-text-repr-fallback\"><pre>RandomForestClassifier()</pre><b>In a Jupyter environment, please rerun this cell to show the HTML representation or trust the notebook. <br />On GitHub, the HTML representation is unable to render, please try loading this page with nbviewer.org.</b></div><div class=\"sk-container\" hidden><div class=\"sk-item\"><div class=\"sk-estimator sk-toggleable\"><input class=\"sk-toggleable__control sk-hidden--visually\" id=\"sk-estimator-id-4\" type=\"checkbox\" checked><label for=\"sk-estimator-id-4\" class=\"sk-toggleable__label sk-toggleable__label-arrow\">RandomForestClassifier</label><div class=\"sk-toggleable__content\"><pre>RandomForestClassifier()</pre></div></div></div></div></div>"
      ],
      "text/plain": [
       "RandomForestClassifier()"
      ]
     },
     "execution_count": 55,
     "metadata": {},
     "output_type": "execute_result"
    }
   ],
   "source": [
    "# Fit in the model into the dataset\n",
    "\n",
    "clf.fit(X_train, Y_train)"
   ]
  },
  {
   "cell_type": "code",
   "execution_count": 56,
   "id": "fd12af2e",
   "metadata": {},
   "outputs": [
    {
     "data": {
      "text/plain": [
       "array([0., 0., 1., 1., 1., 1., 1., 1., 0., 0., 1., 0., 0., 0., 1., 0., 1.,\n",
       "       1., 1., 0., 1., 1., 1., 1., 1., 1., 1., 0., 0., 1., 1., 0., 1., 1.,\n",
       "       0., 0., 0., 1., 1., 1., 1., 1., 0., 0., 0., 0., 0., 1., 1., 0., 1.,\n",
       "       1., 0., 1., 0., 0., 1., 0., 0., 0., 0., 1., 0., 0., 1., 1., 1., 1.,\n",
       "       0., 0., 1., 1., 1., 1., 1., 1., 1., 0., 0., 1., 0., 0., 1., 0., 0.,\n",
       "       0., 1., 0., 0., 0., 0., 0., 0., 1., 0., 1., 0., 0., 1., 1., 0., 1.,\n",
       "       1., 0., 1., 1., 1., 1., 1., 0., 0., 0., 1., 0., 1., 1., 0., 0., 0.,\n",
       "       0., 1., 0., 1., 1., 0., 1., 1., 1., 0., 0., 0., 0., 0., 0., 1., 0.,\n",
       "       1., 1., 0., 1., 1., 0., 1., 0., 0., 1., 1., 1., 0., 0., 1., 0., 0.,\n",
       "       0., 1., 0., 1., 1., 1., 0., 1., 1., 1., 1., 0., 1., 0., 0., 1., 1.,\n",
       "       1., 0., 0., 0., 0., 1., 0., 1., 1., 0., 0., 0., 1., 0., 0., 0., 1.,\n",
       "       0., 1., 1., 0., 1., 1., 0., 1., 0., 1., 0., 0., 1., 0., 1., 0., 1.,\n",
       "       0., 0., 1., 1., 0., 0., 0., 0., 1., 0., 0., 0., 0., 0., 0., 0., 1.,\n",
       "       1., 0., 0., 1., 0., 0., 1., 1., 0., 1., 1., 0., 1., 1., 1., 1., 0.,\n",
       "       0., 0., 1., 1., 0., 1., 0., 0., 0., 1., 0., 0., 1., 1., 1., 1., 0.,\n",
       "       1., 1., 1., 0., 1., 1., 0., 1., 1., 0., 0., 0., 1., 1., 0., 0., 0.,\n",
       "       0., 0., 0., 1., 1., 0., 0., 1., 1., 0., 1., 1., 0., 1., 0., 0., 0.,\n",
       "       0., 1., 0., 0., 0., 0., 1., 1., 1., 1., 0., 1., 0., 1., 1., 0., 1.,\n",
       "       0., 1., 1., 1., 0., 1., 1., 1., 0., 0., 0., 1., 1., 1., 1., 0., 0.,\n",
       "       1., 0., 0., 1., 1., 1., 1., 1., 1., 1., 1., 1., 0., 1., 0., 0., 0.,\n",
       "       1., 1., 1., 1., 0., 0., 1., 1., 1., 1., 1., 0., 0., 1., 0., 0., 0.,\n",
       "       1., 1., 0., 1., 0., 0., 0., 1., 0., 0., 0., 0., 0., 1., 0., 1., 1.,\n",
       "       0., 1., 0., 0., 0., 0., 1., 1., 1., 0., 0., 0., 1., 0., 0., 0., 0.,\n",
       "       0., 1., 1., 1., 1., 1., 1., 0., 0., 0., 1., 0., 1., 0., 1., 1., 1.,\n",
       "       0., 1., 0., 1., 0., 0., 0., 0., 1., 1., 1., 0., 1., 0., 1., 0., 0.,\n",
       "       1., 1., 0., 1., 1., 0., 1., 1., 1., 1., 0., 0., 0., 1., 1., 1., 0.,\n",
       "       0., 1., 1., 1., 0., 1., 0., 0., 0., 1., 1., 1., 1., 0., 1., 1., 0.,\n",
       "       1., 0., 0., 1., 0., 1., 1., 0., 0., 0., 1., 0., 1., 1., 0., 1., 0.,\n",
       "       1., 0., 0., 1., 0., 0., 1., 1., 0., 1., 0., 1., 0., 0., 0., 0., 1.,\n",
       "       0., 0., 1., 1., 0., 0., 0., 0., 1., 1., 0., 0., 0., 1., 1., 1., 1.,\n",
       "       0., 1., 1.])"
      ]
     },
     "execution_count": 56,
     "metadata": {},
     "output_type": "execute_result"
    }
   ],
   "source": [
    "# Make a prediction\n",
    "\n",
    "Y_preds = clf.predict(X_test)\n",
    "Y_preds"
   ]
  },
  {
   "cell_type": "code",
   "execution_count": 57,
   "id": "226546c9",
   "metadata": {},
   "outputs": [
    {
     "data": {
      "text/plain": [
       "1.0"
      ]
     },
     "execution_count": 57,
     "metadata": {},
     "output_type": "execute_result"
    }
   ],
   "source": [
    "# Evaluate the model on the dataset\n",
    "clf.score(X_train, Y_train)"
   ]
  },
  {
   "cell_type": "code",
   "execution_count": 58,
   "id": "b731dde2",
   "metadata": {},
   "outputs": [
    {
     "data": {
      "text/plain": [
       "0.9805068226120858"
      ]
     },
     "execution_count": 58,
     "metadata": {},
     "output_type": "execute_result"
    }
   ],
   "source": [
    "# Evaluate the model on the test dataset\n",
    "\n",
    "clf.score(X_test, Y_test)"
   ]
  },
  {
   "cell_type": "markdown",
   "id": "fbd2260f",
   "metadata": {},
   "source": [
    "## Checking for important metrics"
   ]
  },
  {
   "cell_type": "code",
   "execution_count": 59,
   "id": "185009ba",
   "metadata": {},
   "outputs": [
    {
     "name": "stdout",
     "output_type": "stream",
     "text": [
      "0.9805068226120858\n"
     ]
    }
   ],
   "source": [
    "# Check for accuracy score\n",
    "from sklearn.metrics import accuracy_score, classification_report, confusion_matrix\n",
    "\n",
    "print(accuracy_score(Y_test, Y_preds))"
   ]
  },
  {
   "cell_type": "code",
   "execution_count": 60,
   "id": "1a944f94",
   "metadata": {},
   "outputs": [
    {
     "name": "stdout",
     "output_type": "stream",
     "text": [
      "              precision    recall  f1-score   support\n",
      "\n",
      "         0.0       1.00      0.96      0.98       265\n",
      "         1.0       0.96      1.00      0.98       248\n",
      "\n",
      "    accuracy                           0.98       513\n",
      "   macro avg       0.98      0.98      0.98       513\n",
      "weighted avg       0.98      0.98      0.98       513\n",
      "\n"
     ]
    }
   ],
   "source": [
    "print(classification_report(Y_test, Y_preds))"
   ]
  },
  {
   "cell_type": "code",
   "execution_count": 61,
   "id": "4fcef920",
   "metadata": {},
   "outputs": [
    {
     "name": "stdout",
     "output_type": "stream",
     "text": [
      "[[255  10]\n",
      " [  0 248]]\n"
     ]
    }
   ],
   "source": [
    "print(confusion_matrix(Y_test, Y_preds))"
   ]
  },
  {
   "cell_type": "code",
   "execution_count": 62,
   "id": "863b486a",
   "metadata": {},
   "outputs": [],
   "source": [
    "# Saving the model\n",
    "\n",
    "import pickle\n",
    "pickle.dump(clf, open(\"RandomForestClassification Model on Heart Disease.pkl\", \"wb\"))"
   ]
  },
  {
   "cell_type": "code",
   "execution_count": 64,
   "id": "478734f4",
   "metadata": {},
   "outputs": [
    {
     "name": "stdout",
     "output_type": "stream",
     "text": [
      "Note: you may need to restart the kernel to use updated packages.\n"
     ]
    },
    {
     "name": "stderr",
     "output_type": "stream",
     "text": [
      "ERROR: Could not find a version that satisfies the requirement pickle (from versions: none)\n",
      "ERROR: No matching distribution found for pickle\n"
     ]
    }
   ],
   "source": [
    "pip install pickle"
   ]
  },
  {
   "cell_type": "code",
   "execution_count": null,
   "id": "e8963dd0",
   "metadata": {},
   "outputs": [],
   "source": []
  }
 ],
 "metadata": {
  "kernelspec": {
   "display_name": "Python 3 (ipykernel)",
   "language": "python",
   "name": "python3"
  },
  "language_info": {
   "codemirror_mode": {
    "name": "ipython",
    "version": 3
   },
   "file_extension": ".py",
   "mimetype": "text/x-python",
   "name": "python",
   "nbconvert_exporter": "python",
   "pygments_lexer": "ipython3",
   "version": "3.10.9"
  }
 },
 "nbformat": 4,
 "nbformat_minor": 5
}
